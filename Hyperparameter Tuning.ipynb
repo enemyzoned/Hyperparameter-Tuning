{
 "cells": [
  {
   "cell_type": "markdown",
   "id": "86040837",
   "metadata": {},
   "source": [
    "# Comparison of Hyperparameter Tuning Methods"
   ]
  },
  {
   "cell_type": "code",
   "execution_count": 1,
   "id": "7f7a5076",
   "metadata": {},
   "outputs": [],
   "source": [
    "from sklearn.datasets import load_iris\n",
    "from sklearn.neural_network import MLPClassifier\n",
    "from sklearn.model_selection import train_test_split, RandomizedSearchCV, GridSearchCV\n",
    "from ray.tune.sklearn import TuneSearchCV"
   ]
  },
  {
   "cell_type": "code",
   "execution_count": 2,
   "id": "cef56ec1",
   "metadata": {},
   "outputs": [],
   "source": [
    "import numpy as np\n",
    "np.random.seed(5)"
   ]
  },
  {
   "cell_type": "code",
   "execution_count": 3,
   "id": "a9043478",
   "metadata": {},
   "outputs": [],
   "source": [
    "iris=load_iris()\n",
    "X=iris.data\n",
    "y=iris.target"
   ]
  },
  {
   "cell_type": "code",
   "execution_count": 4,
   "id": "b097d45b",
   "metadata": {},
   "outputs": [],
   "source": [
    "X_train,X_test,y_train,y_test=train_test_split(X,y,test_size=0.3,random_state=5)"
   ]
  },
  {
   "cell_type": "code",
   "execution_count": 5,
   "id": "96cf1fa8",
   "metadata": {},
   "outputs": [],
   "source": [
    "parameters={\n",
    "    \"activation\":[\"identity\",\"logistic\",\"tanh\",\"relu\"],\n",
    "    \"solver\":[\"lbfgs\",\"sgd\",\"adam\"],\n",
    "    \"max_iter\":[3000,4000,5000]\n",
    "}"
   ]
  },
  {
   "cell_type": "code",
   "execution_count": 6,
   "id": "8a244462",
   "metadata": {},
   "outputs": [],
   "source": [
    "model=MLPClassifier()"
   ]
  },
  {
   "cell_type": "markdown",
   "id": "b2fe3ac4",
   "metadata": {},
   "source": [
    "## Random Search"
   ]
  },
  {
   "cell_type": "code",
   "execution_count": 7,
   "id": "99d1b8ea",
   "metadata": {},
   "outputs": [],
   "source": [
    "RSmodel=RandomizedSearchCV(model,parameters,random_state=5)"
   ]
  },
  {
   "cell_type": "code",
   "execution_count": 8,
   "id": "beaa3e61",
   "metadata": {},
   "outputs": [
    {
     "data": {
      "text/plain": [
       "RandomizedSearchCV(estimator=MLPClassifier(),\n",
       "                   param_distributions={'activation': ['identity', 'logistic',\n",
       "                                                       'tanh', 'relu'],\n",
       "                                        'max_iter': [3000, 4000, 5000],\n",
       "                                        'solver': ['lbfgs', 'sgd', 'adam']},\n",
       "                   random_state=5)"
      ]
     },
     "execution_count": 8,
     "metadata": {},
     "output_type": "execute_result"
    }
   ],
   "source": [
    "RSmodel.fit(X_train,y_train)"
   ]
  },
  {
   "cell_type": "code",
   "execution_count": 9,
   "id": "86931fc3",
   "metadata": {},
   "outputs": [
    {
     "data": {
      "text/plain": [
       "{'solver': 'sgd', 'max_iter': 4000, 'activation': 'relu'}"
      ]
     },
     "execution_count": 9,
     "metadata": {},
     "output_type": "execute_result"
    }
   ],
   "source": [
    "RSmodel.best_params_"
   ]
  },
  {
   "cell_type": "code",
   "execution_count": 10,
   "id": "d4948f81",
   "metadata": {},
   "outputs": [
    {
     "data": {
      "text/plain": [
       "0.9904761904761905"
      ]
     },
     "execution_count": 10,
     "metadata": {},
     "output_type": "execute_result"
    }
   ],
   "source": [
    "RSmodel.best_score_"
   ]
  },
  {
   "cell_type": "code",
   "execution_count": 11,
   "id": "43451126",
   "metadata": {},
   "outputs": [
    {
     "data": {
      "text/plain": [
       "0.9333333333333333"
      ]
     },
     "execution_count": 11,
     "metadata": {},
     "output_type": "execute_result"
    }
   ],
   "source": [
    "RSmodel.score(X_test,y_test)"
   ]
  },
  {
   "cell_type": "markdown",
   "id": "f1f2007c",
   "metadata": {},
   "source": [
    "## Grid Search"
   ]
  },
  {
   "cell_type": "code",
   "execution_count": 12,
   "id": "788b182f",
   "metadata": {},
   "outputs": [],
   "source": [
    "GSmodel=GridSearchCV(model,parameters)"
   ]
  },
  {
   "cell_type": "code",
   "execution_count": 13,
   "id": "eeb34d74",
   "metadata": {},
   "outputs": [
    {
     "data": {
      "text/plain": [
       "GridSearchCV(estimator=MLPClassifier(),\n",
       "             param_grid={'activation': ['identity', 'logistic', 'tanh', 'relu'],\n",
       "                         'max_iter': [3000, 4000, 5000],\n",
       "                         'solver': ['lbfgs', 'sgd', 'adam']})"
      ]
     },
     "execution_count": 13,
     "metadata": {},
     "output_type": "execute_result"
    }
   ],
   "source": [
    "GSmodel.fit(X_train,y_train)"
   ]
  },
  {
   "cell_type": "code",
   "execution_count": 14,
   "id": "c1c1034c",
   "metadata": {},
   "outputs": [
    {
     "data": {
      "text/plain": [
       "{'activation': 'identity', 'max_iter': 3000, 'solver': 'sgd'}"
      ]
     },
     "execution_count": 14,
     "metadata": {},
     "output_type": "execute_result"
    }
   ],
   "source": [
    "GSmodel.best_params_"
   ]
  },
  {
   "cell_type": "code",
   "execution_count": 15,
   "id": "c4680b9e",
   "metadata": {},
   "outputs": [
    {
     "data": {
      "text/plain": [
       "0.9904761904761905"
      ]
     },
     "execution_count": 15,
     "metadata": {},
     "output_type": "execute_result"
    }
   ],
   "source": [
    "GSmodel.best_score_"
   ]
  },
  {
   "cell_type": "code",
   "execution_count": 16,
   "id": "92168ce6",
   "metadata": {},
   "outputs": [
    {
     "data": {
      "text/plain": [
       "0.9333333333333333"
      ]
     },
     "execution_count": 16,
     "metadata": {},
     "output_type": "execute_result"
    }
   ],
   "source": [
    "GSmodel.score(X_test,y_test)"
   ]
  },
  {
   "cell_type": "markdown",
   "id": "4fd12e41",
   "metadata": {},
   "source": [
    "## Bayesian Optimization"
   ]
  },
  {
   "cell_type": "code",
   "execution_count": 17,
   "id": "d055bf98",
   "metadata": {},
   "outputs": [],
   "source": [
    "BOmodel=TuneSearchCV(model,parameters,search_optimization=\"bayesian\")"
   ]
  },
  {
   "cell_type": "code",
   "execution_count": 18,
   "id": "f3fd7dda",
   "metadata": {},
   "outputs": [
    {
     "name": "stderr",
     "output_type": "stream",
     "text": [
      "C:\\Users\\getch\\AppData\\Local\\Programs\\Python\\Python39\\lib\\site-packages\\ray\\tune\\tune.py:375: UserWarning: The `loggers` argument is deprecated. Please pass the respective `LoggerCallback` classes to the `callbacks` argument instead. See https://docs.ray.io/en/latest/tune/api_docs/logging.html\n",
      "  warnings.warn(\n",
      "Log sync requires rsync to be installed.\n"
     ]
    },
    {
     "data": {
      "text/plain": [
       "TuneSearchCV(estimator=MLPClassifier(),\n",
       "             loggers=[<class 'ray.tune.logger.CSVLogger'>,\n",
       "                      <class 'ray.tune.logger.JsonLogger'>],\n",
       "             mode='max', n_jobs=-1,\n",
       "             param_distributions={'activation': ['identity', 'logistic', 'tanh',\n",
       "                                                 'relu'],\n",
       "                                  'max_iter': [3000, 4000, 5000],\n",
       "                                  'solver': ['lbfgs', 'sgd', 'adam']},\n",
       "             scoring={'score': <function _passthrough_scorer at 0x0000022F490B8D30>},\n",
       "             search_optimization='bayesian', sk_n_jobs=1)"
      ]
     },
     "execution_count": 18,
     "metadata": {},
     "output_type": "execute_result"
    }
   ],
   "source": [
    "BOmodel.fit(X_train,y_train)"
   ]
  },
  {
   "cell_type": "code",
   "execution_count": 19,
   "id": "09be26ad",
   "metadata": {},
   "outputs": [
    {
     "data": {
      "text/plain": [
       "{'activation': 'identity', 'solver': 'sgd', 'max_iter': 4000}"
      ]
     },
     "execution_count": 19,
     "metadata": {},
     "output_type": "execute_result"
    }
   ],
   "source": [
    "BOmodel.best_params_"
   ]
  },
  {
   "cell_type": "code",
   "execution_count": 20,
   "id": "70c515f0",
   "metadata": {},
   "outputs": [
    {
     "data": {
      "text/plain": [
       "0.9904761904761905"
      ]
     },
     "execution_count": 20,
     "metadata": {},
     "output_type": "execute_result"
    }
   ],
   "source": [
    "BOmodel.best_score_"
   ]
  },
  {
   "cell_type": "code",
   "execution_count": 21,
   "id": "c84c8b4b",
   "metadata": {},
   "outputs": [
    {
     "data": {
      "text/plain": [
       "0.9555555555555556"
      ]
     },
     "execution_count": 21,
     "metadata": {},
     "output_type": "execute_result"
    }
   ],
   "source": [
    "BOmodel.score(X_test,y_test)"
   ]
  }
 ],
 "metadata": {
  "kernelspec": {
   "display_name": "Python 3 (ipykernel)",
   "language": "python",
   "name": "python3"
  },
  "language_info": {
   "codemirror_mode": {
    "name": "ipython",
    "version": 3
   },
   "file_extension": ".py",
   "mimetype": "text/x-python",
   "name": "python",
   "nbconvert_exporter": "python",
   "pygments_lexer": "ipython3",
   "version": "3.9.9"
  }
 },
 "nbformat": 4,
 "nbformat_minor": 5
}
